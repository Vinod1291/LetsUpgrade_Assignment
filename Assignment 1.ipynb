{
 "cells": [
  {
   "cell_type": "markdown",
   "metadata": {},
   "source": [
    "# Assignment 1"
   ]
  },
  {
   "cell_type": "markdown",
   "metadata": {},
   "source": [
    "Q-1 : Take a input for a list and sort it in a descending order."
   ]
  },
  {
   "cell_type": "code",
   "execution_count": 43,
   "metadata": {},
   "outputs": [
    {
     "name": "stdout",
     "output_type": "stream",
     "text": [
      "Input Numbers want to sort3 56 76 33 87\n",
      "After sorting into descending order: [87, 76, 56, 33, 3]\n"
     ]
    }
   ],
   "source": [
    "# Taking input numbder, trimming extra space, split & convert into list\n",
    "\n",
    "x=list(map(int, input('Input Numbers want to sort:').strip().split()))\n",
    "\n",
    "# sorting the input numbers & reverse\n",
    "x.sort()\n",
    "x.reverse()\n",
    "\n",
    "print('After sorting into descending order:', x)"
   ]
  },
  {
   "cell_type": "code",
   "execution_count": null,
   "metadata": {},
   "outputs": [],
   "source": []
  }
 ],
 "metadata": {
  "kernelspec": {
   "display_name": "Python 3",
   "language": "python",
   "name": "python3"
  },
  "language_info": {
   "codemirror_mode": {
    "name": "ipython",
    "version": 3
   },
   "file_extension": ".py",
   "mimetype": "text/x-python",
   "name": "python",
   "nbconvert_exporter": "python",
   "pygments_lexer": "ipython3",
   "version": "3.8.5"
  }
 },
 "nbformat": 4,
 "nbformat_minor": 4
}
