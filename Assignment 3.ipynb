{
 "cells": [
  {
   "cell_type": "markdown",
   "metadata": {},
   "source": [
    "# Assignment 3"
   ]
  },
  {
   "cell_type": "markdown",
   "metadata": {},
   "source": [
    "Assignment during session :\n",
    "\n",
    "Your task:\n",
    "\n",
    "Take input for the gift_presented_to[] list and print its respective gift_received_from[] list."
   ]
  },
  {
   "cell_type": "code",
   "execution_count": 38,
   "metadata": {},
   "outputs": [
    {
     "name": "stdout",
     "output_type": "stream",
     "text": [
      "gift_presented_to:3 2 4 5 1\n",
      "Person P1 has received gift from person P 3\n",
      "Person P 3 has received gift from person P 2\n",
      "Person P 2  has received gift from person P 4\n",
      "Person P 4  has received gift from person P 5\n",
      "Person P 5  has received gift from person P 5\n"
     ]
    }
   ],
   "source": [
    "#Taking input, single digit with single space\n",
    "x=list(map(int, input('gift_presented_to:').strip().split()))\n",
    "\n",
    "if x[0]!=1:  \n",
    "    print('Person P1 has received gift from person P',x[0])\n",
    "    print('Person P',x[0], 'has received gift from person P', x[1])\n",
    "    print('Person P',x[1], ' has received gift from person P',x[2])\n",
    "    print('Person P',x[2], ' has received gift from person P',x[3])\n",
    "    print('Person P',x[3], ' has received gift from person P',x[3])\n",
    "else:\n",
    "    print('First person can not be 1')"
   ]
  },
  {
   "cell_type": "code",
   "execution_count": null,
   "metadata": {},
   "outputs": [],
   "source": []
  }
 ],
 "metadata": {
  "kernelspec": {
   "display_name": "Python 3",
   "language": "python",
   "name": "python3"
  },
  "language_info": {
   "codemirror_mode": {
    "name": "ipython",
    "version": 3
   },
   "file_extension": ".py",
   "mimetype": "text/x-python",
   "name": "python",
   "nbconvert_exporter": "python",
   "pygments_lexer": "ipython3",
   "version": "3.8.5"
  }
 },
 "nbformat": 4,
 "nbformat_minor": 4
}
